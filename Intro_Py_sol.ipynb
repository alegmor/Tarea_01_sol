{
 "cells": [
  {
   "cell_type": "markdown",
   "id": "a9bb4e7e",
   "metadata": {},
   "source": [
    "<div>\n",
    "<img align=\"center\"\n",
    "src=\"Images/banner.png\" width=\"950\" height=\"9500\"/>"
   ]
  },
  {
   "cell_type": "code",
   "execution_count": null,
   "id": "abc888fc",
   "metadata": {},
   "outputs": [],
   "source": [
    "from macti.evaluacion import Evalua\n",
    "evaluacion = Evalua(\"utils/data/solutions\", local=True)\n",
    "import numpy as np"
   ]
  },
  {
   "cell_type": "markdown",
   "id": "7433ff36",
   "metadata": {
    "deletable": false,
    "editable": false,
    "nbgrader": {
     "cell_type": "markdown",
     "checksum": "17ed413a1b3fae46631cec9cfbb92685",
     "grade": false,
     "grade_id": "cell-bf2609d8ac4614c7",
     "locked": true,
     "schema_version": 3,
     "solution": false,
     "task": false
    }
   },
   "source": [
    "### <font color='#09427D'> Tarea 1 </font>\n",
    "\n",
    "#### 1. Determine la masa $m$ y el peso $w$ del aire contenido en un recinto cuyas dimensiones son $6 \\mathrm{m} \\times6 \\mathrm{m} \\times8 \\mathrm{m}$. Suponga que la densidad del aire es $1.16$ $\\mathrm{kg/m^3}$.\n",
    "\n",
    "### <font color='red'> Solución: </font>\n",
    "\n",
    "Densidad: \n",
    "    \n",
    "$$ \\rho = \\dfrac{m}{V}$$\n",
    "\n",
    "Peso:\n",
    "\n",
    "$$ w = mg $$"
   ]
  },
  {
   "cell_type": "code",
   "execution_count": null,
   "id": "881d617a",
   "metadata": {
    "deletable": false,
    "editable": false,
    "nbgrader": {
     "cell_type": "code",
     "checksum": "949110723358e4378dc2a1080a603787",
     "grade": false,
     "grade_id": "cell-49ad8ce159bcb8c9",
     "locked": true,
     "schema_version": 3,
     "solution": false,
     "task": false
    }
   },
   "outputs": [],
   "source": [
    "#1.DATOS\n",
    "V   = 6*6*8\n",
    "rho = 1.16\n",
    "g   = 9.81"
   ]
  },
  {
   "cell_type": "code",
   "execution_count": null,
   "id": "641875d9",
   "metadata": {
    "deletable": false,
    "nbgrader": {
     "cell_type": "code",
     "checksum": "16ebe65092b343eb24033f4aacb09efd",
     "grade": false,
     "grade_id": "cell-697e1fa994db4c02",
     "locked": false,
     "schema_version": 3,
     "solution": true,
     "task": false
    }
   },
   "outputs": [],
   "source": [
    "#2.FUNCION\n",
    "def masa(rho,V):\n",
    "    # YOUR CODE HERE\n",
    "    raise NotImplementedError()\n",
    "    return m \n",
    "\n",
    "def peso(m,g):\n",
    "    # YOUR CODE HERE\n",
    "    raise NotImplementedError()\n",
    "    return w   "
   ]
  },
  {
   "cell_type": "code",
   "execution_count": null,
   "id": "5d5d41f4",
   "metadata": {
    "deletable": false,
    "editable": false,
    "nbgrader": {
     "cell_type": "code",
     "checksum": "a89e6dcc0ee53e01f4a6d4f4165941bd",
     "grade": false,
     "grade_id": "cell-2d7032f824db517d",
     "locked": true,
     "schema_version": 3,
     "solution": false,
     "task": false
    }
   },
   "outputs": [],
   "source": [
    "#3. EVALUA RESULTADO\n",
    "evaluacion.verifica(np.array(masa(rho,V)),21)\n",
    "evaluacion.verifica(np.array(peso(masa(rho,V),g)),22)"
   ]
  },
  {
   "cell_type": "code",
   "execution_count": null,
   "id": "bb5279e9",
   "metadata": {
    "deletable": false,
    "editable": false,
    "nbgrader": {
     "cell_type": "code",
     "checksum": "199eb2d62b1c69736c18051dce221a70",
     "grade": false,
     "grade_id": "cell-9cd6a922ed1aef55",
     "locked": true,
     "schema_version": 3,
     "solution": false,
     "task": false
    }
   },
   "outputs": [],
   "source": [
    "#IMPRIME RESULTADO\n",
    "print(\"La masa del aire contenido en el recinto es: {} kg\".format(masa(rho,V)))\n",
    "print(\"El peso del aire contenido en el recinto es: {} N\".format(peso(masa(rho,V),g)))"
   ]
  },
  {
   "cell_type": "markdown",
   "id": "0e9a7d74",
   "metadata": {
    "deletable": false,
    "editable": false,
    "nbgrader": {
     "cell_type": "markdown",
     "checksum": "2eec72de7d550f0b808ecdb4b7d2e3af",
     "grade": false,
     "grade_id": "cell-f95ac6b61c56f29c",
     "locked": true,
     "schema_version": 3,
     "solution": false,
     "task": false
    }
   },
   "source": [
    "#### 2. El calor específico a presión constante $c_p$ del aire a $25$ $\\mathrm{^\\circ{C}}$ es $1.005$ $\\mathrm{ kJ/kg  ^{\\circ}C}$. Exprese este valor en $\\mathrm{kJ/kg \\cdot K}$, $\\mathrm{J/g \\cdot ^\\circ C}$, $\\mathrm{kcal/kg ^{\\circ}C}$ y $\\mathrm{Btu/lbm  ^\\circ F}$.\n",
    "\n",
    "### <font color='red'> Solución: </font>\n",
    "\n",
    "Conversión de $\\mathrm{ kJ/kg  ^{\\circ}C}$ a $\\mathrm{J/g \\cdot ^\\circ C}$\n",
    "\n",
    "$$  \\mathrm{\\left( \\dfrac{ kJ}{kg  ^{\\circ}C} \\right) \\left( \\dfrac{  1 kg}{1000 g} \\right) \\left( \\dfrac{  1000 J}{1 kJ} \\right) = \\dfrac{J}{g ^{\\circ}C}}$$\n",
    "\n",
    "Conversión de $\\mathrm{ kJ/kg  ^{\\circ}C}$ a $\\mathrm{kcal/kg \\cdot ^\\circ C}$\n",
    "\n",
    "\n",
    "$$  \\mathrm{\\left( \\dfrac{ kJ}{kg  ^{\\circ}C} \\right)\\left( \\dfrac{  0.239006 kcal}{1 kJ} \\right) = \\dfrac{kcal}{kg ^{\\circ}C}}$$\n",
    "\n",
    "Conversión de $\\mathrm{ kJ/kg  ^{\\circ}C}$ a $\\mathrm{BTU/lbm \\cdot ^\\circ F}$\n",
    "\n",
    "\n",
    "$$  \\mathrm{1  \\dfrac{ kJ}{kg  ^{\\circ}C}=0.2388 \\dfrac{BTU}{lbm ^{\\circ}F}}$$"
   ]
  },
  {
   "cell_type": "code",
   "execution_count": null,
   "id": "803d507a",
   "metadata": {},
   "outputs": [],
   "source": [
    "#1. DATOS\n",
    "cp = 1.005"
   ]
  },
  {
   "cell_type": "code",
   "execution_count": null,
   "id": "d7a1f15a",
   "metadata": {},
   "outputs": [],
   "source": [
    "#2. FUNCION\n",
    "\n",
    "def kJkgC_a_JgC(cp):\n",
    "    c = cp*(1/1000)*(1000/1)\n",
    "    return c    \n",
    "\n",
    "def kJkgC_a_kcalkgC(cp):\n",
    "    c = cp*(0.239006/1)\n",
    "    return c\n",
    "\n",
    "def kJkgC_a_BTUlbmF(cp):\n",
    "    c = cp*0.2388\n",
    "    return c"
   ]
  },
  {
   "cell_type": "code",
   "execution_count": null,
   "id": "0dd16ec1",
   "metadata": {},
   "outputs": [],
   "source": [
    "#3. RESULTADO\n",
    "print(\"El calor específico del aire es: {} J/g°C\".format(kJkgC_a_JgC(cp)))\n",
    "print(\"El calos específico del aire es: {} kcal/kg°C\".format(kJkgC_a_kcalkgC(cp)))\n",
    "print(\"El calos específico del aire es: {} BTU/lbm°F\".format(kJkgC_a_BTUlbmF(cp)))"
   ]
  },
  {
   "cell_type": "markdown",
   "id": "f9bd872a",
   "metadata": {},
   "source": [
    "#### 3. Una resistencia de calentamiento de $4 \\mathrm {kW}$ en un calentador de agua trabaja durante dos horas para elevar la temperatura del agua al nivel deseado. Determine la cantidad de energía eléctrica que se usa, tanto en $\\mathrm{kWh}$ como en $\\mathrm{kJ}$.\n",
    "\n",
    "### <font color='red'> Solución: </font>\n",
    "\n",
    "Energía eléctrica\n",
    "$$E = P \\cdot t,$$\n",
    "\n",
    "con $P$ la potencia eléctrica $(\\mathrm{kW})$ y $t$ el tiempo $(\\mathrm{h})$.\n",
    "\n",
    "Conversión de $\\mathrm{kWh}$ a $\\mathrm{kJ}$\n",
    "\n",
    "$$ \\mathrm{  kWh \\left( \\dfrac{3600 s}{1 h}  \\right) }$$"
   ]
  },
  {
   "cell_type": "code",
   "execution_count": null,
   "id": "003c61cf",
   "metadata": {},
   "outputs": [],
   "source": [
    "#1. DATOS\n",
    "P_c = 4 #kW\n",
    "t_c = 2 #horas"
   ]
  },
  {
   "cell_type": "code",
   "execution_count": null,
   "id": "195a6cdf",
   "metadata": {
    "deletable": false,
    "nbgrader": {
     "cell_type": "code",
     "checksum": "b2baf815ef0cba8b89649c4829c709e8",
     "grade": true,
     "grade_id": "cell-3fc41218ece2efd0",
     "locked": false,
     "points": 1,
     "schema_version": 3,
     "solution": true,
     "task": false
    }
   },
   "outputs": [],
   "source": [
    "# YOUR CODE HERE\n",
    "raise NotImplementedError()"
   ]
  },
  {
   "cell_type": "code",
   "execution_count": null,
   "id": "3d99b854",
   "metadata": {
    "deletable": false,
    "editable": false,
    "nbgrader": {
     "cell_type": "code",
     "checksum": "1bd9cfa88b991c64f585f118a68446b2",
     "grade": false,
     "grade_id": "cell-a7410ff84282ae1c",
     "locked": true,
     "schema_version": 3,
     "solution": false,
     "task": false
    }
   },
   "outputs": [],
   "source": [
    "E = Energia_Electrica(P_c,t_c)"
   ]
  },
  {
   "cell_type": "code",
   "execution_count": null,
   "id": "2b15ce20",
   "metadata": {
    "deletable": false,
    "editable": false,
    "nbgrader": {
     "cell_type": "code",
     "checksum": "9742535562140a7dd176f9394399f343",
     "grade": false,
     "grade_id": "cell-22b1907f9cba5417",
     "locked": true,
     "schema_version": 3,
     "solution": false,
     "task": false
    }
   },
   "outputs": [],
   "source": [
    "evaluacion.verifica(np.array(E),23)"
   ]
  },
  {
   "cell_type": "code",
   "execution_count": null,
   "id": "aaa08b2f",
   "metadata": {},
   "outputs": [],
   "source": [
    "#3. RESULTADO\n",
    "print(\"La energía eléctrica E es: {} kWh y {} kJ\".format(E,kWh_a_kJ(E)))"
   ]
  },
  {
   "cell_type": "markdown",
   "id": "37729e1f",
   "metadata": {
    "deletable": false,
    "editable": false,
    "nbgrader": {
     "cell_type": "markdown",
     "checksum": "4540d1c53dfba1107be56e9602131efe",
     "grade": false,
     "grade_id": "cell-1a7e1c16728e0f2c",
     "locked": true,
     "schema_version": 3,
     "solution": false,
     "task": false
    }
   },
   "source": [
    "#### 4. Un automóvil recorre $200$ $\\mathrm{km}$ en $7,200$ $\\mathrm{s}$. Obten su velocidad en millas por hora ($\\mathrm{mph}$).\n",
    "\n",
    "### <font color='red'> Solución: </font>\n",
    "\n",
    "Velocidad $v$ es\n",
    "\n",
    "$$v = \\dfrac{d}{t},$$\n",
    "\n",
    "con $d$ la distancia ($\\mathrm{km}$) y $t$ el tiempo ($\\mathrm{s}$).\n",
    "\n",
    "Conversión de  $\\mathrm{km/s}$ a $\\mathrm{mph}$\n",
    "\n",
    "$$1 \\mathrm{\\dfrac{km}{s}= 2236.94 mph}$$"
   ]
  },
  {
   "cell_type": "code",
   "execution_count": null,
   "id": "9fb20fe1",
   "metadata": {},
   "outputs": [],
   "source": [
    "#1. DATOS\n",
    "\n",
    "x = 200 \n",
    "t = 7200"
   ]
  },
  {
   "cell_type": "code",
   "execution_count": null,
   "id": "2c6cf85d",
   "metadata": {},
   "outputs": [],
   "source": [
    "#2. FUNCION\n",
    "\n",
    "def v(x,t):\n",
    "    vel = x/t\n",
    "    return vel\n",
    "\n",
    "v = v(x,t)\n",
    "\n",
    "def kps_mph(v):\n",
    "    vel_mph = v*2236.94\n",
    "    return vel_mph"
   ]
  },
  {
   "cell_type": "code",
   "execution_count": null,
   "id": "3d6c1bcb",
   "metadata": {},
   "outputs": [],
   "source": [
    "#RESULTADO\n",
    "\n",
    "print(\"La velocidad v es: {} km/s y {} mph\".format(v,kps_mph(v)))"
   ]
  },
  {
   "cell_type": "markdown",
   "id": "7a3d7b6e",
   "metadata": {},
   "source": [
    "#### 5. Considere un aire acondicionado con una capacidad de extraer $9,495,503$ $\\mathrm{Joules}$ ¿Cuánto equivale esta energía en Unidades Térmicas Británicas ($\\mathrm{BTU}$)?.\n",
    "\n",
    "### <font color='red'> Solución: </font>\n"
   ]
  },
  {
   "cell_type": "code",
   "execution_count": null,
   "id": "2d8a2efd",
   "metadata": {},
   "outputs": [],
   "source": [
    "#1. DATOS\n",
    "\n",
    "E_j = 9495503"
   ]
  },
  {
   "cell_type": "code",
   "execution_count": null,
   "id": "79367bf6",
   "metadata": {},
   "outputs": [],
   "source": [
    "#2. FUNCION\n",
    "\n",
    "def J_a_BTU(E_j):\n",
    "    E_BTU = E_j*(1/1055.056)\n",
    "    return E_BTU"
   ]
  },
  {
   "cell_type": "code",
   "execution_count": null,
   "id": "232ca1fe",
   "metadata": {},
   "outputs": [],
   "source": [
    "#3. RESULTADO\n",
    "\n",
    "print(\"El aire acondicionado tiene una capacidad de extraer {} BTU's\".format(J_a_BTU(E_j)))"
   ]
  },
  {
   "cell_type": "markdown",
   "id": "d716a71b",
   "metadata": {},
   "source": [
    "#### 6. Un foco de $100$ $\\mathrm{Watt}$ está encendido durante dos horas al día \n",
    "\n",
    "(a) ¿Cuál es la energía en watt-hora ($\\mathrm{Wh}$) que consume al día\n",
    "\n",
    "(b) ¿Cuál es la energía que consume al año? Escribe tu respuesta en $\\mathrm{Wh}$ y $\\mathrm{kWh}$?\n",
    "\n",
    "(c) ¿Cuál es la energía que consume en $\\mathrm{BTUs}$ por día y por año?\n",
    "\n",
    "(d) ¿Cuál es la energía que consume en $\\mathrm{Joules}$ por días y por año?\n",
    "\n",
    "### <font color='red'> Solución: </font>\n"
   ]
  },
  {
   "cell_type": "code",
   "execution_count": null,
   "id": "72f99f90",
   "metadata": {},
   "outputs": [],
   "source": [
    "#1. DATOS\n",
    "Pf = 100\n",
    "tf = 2"
   ]
  },
  {
   "cell_type": "code",
   "execution_count": null,
   "id": "5e346eec",
   "metadata": {
    "deletable": false,
    "nbgrader": {
     "cell_type": "code",
     "checksum": "107f89c3cc22cf484c53b348646e51ee",
     "grade": true,
     "grade_id": "cell-e68a02fb0d672656",
     "locked": false,
     "points": 1,
     "schema_version": 3,
     "solution": true,
     "task": false
    }
   },
   "outputs": [],
   "source": [
    "# YOUR CODE HERE\n",
    "raise NotImplementedError()"
   ]
  },
  {
   "cell_type": "code",
   "execution_count": null,
   "id": "3b00f7ec",
   "metadata": {
    "deletable": false,
    "editable": false,
    "nbgrader": {
     "cell_type": "code",
     "checksum": "15670412ba8ee8d26ad2183455b6da9f",
     "grade": false,
     "grade_id": "cell-9a594b86cbc0cb91",
     "locked": true,
     "schema_version": 3,
     "solution": false,
     "task": false
    }
   },
   "outputs": [],
   "source": [
    "#3. RESULTADO \n",
    "\n",
    "print(\"(a) La energía E que consume al día es {} Wh\".format(Ed_Wh))\n",
    "print(\"(b) La energía E que consume al año es {} Wh y {} kWh\".format(Ea_Wh,Ea_Wh/1000))\n",
    "print(\"(c) La energía E que consume en BTU's por día es {} y por año {}\".format(Ed_BTU,Ea_BTU))\n",
    "print(\"(d) La energía E que consume en Joules por día es {} y por año {} \".format(Ed_J,Ea_J))"
   ]
  }
 ],
 "metadata": {
  "kernelspec": {
   "display_name": "Python 3 (ipykernel)",
   "language": "python",
   "name": "python3"
  },
  "language_info": {
   "codemirror_mode": {
    "name": "ipython",
    "version": 3
   },
   "file_extension": ".py",
   "mimetype": "text/x-python",
   "name": "python",
   "nbconvert_exporter": "python",
   "pygments_lexer": "ipython3",
   "version": "3.9.7"
  }
 },
 "nbformat": 4,
 "nbformat_minor": 5
}
