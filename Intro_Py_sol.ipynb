{
 "cells": [
  {
   "cell_type": "markdown",
   "id": "a9bb4e7e",
   "metadata": {},
   "source": [
    "<div>\n",
    "<img align=\"center\"\n",
    "src=\"Images/banner.png\" width=\"950\" height=\"9500\"/>"
   ]
  },
  {
   "cell_type": "code",
   "execution_count": 1,
   "id": "abc888fc",
   "metadata": {},
   "outputs": [],
   "source": [
    "from macti.evaluacion import Evalua\n",
    "evaluacion = Evalua(\"../../utils/data/solutions\", local=True)\n",
    "import numpy as np"
   ]
  },
  {
   "cell_type": "markdown",
   "id": "7433ff36",
   "metadata": {
    "nbgrader": {
     "grade": false,
     "grade_id": "cell-bf2609d8ac4614c7",
     "locked": true,
     "schema_version": 3,
     "solution": false,
     "task": false
    }
   },
   "source": [
    "### <font color='#09427D'> Tarea 1 </font>\n",
    "\n",
    "#### 1. Determine la masa $m$ y el peso $w$ del aire contenido en un recinto cuyas dimensiones son $6 \\mathrm{m} \\times6 \\mathrm{m} \\times8 \\mathrm{m}$. Suponga que la densidad del aire es $1.16$ $\\mathrm{kg/m^3}$.\n",
    "\n",
    "### <font color='red'> Solución: </font>\n",
    "\n",
    "Densidad: \n",
    "    \n",
    "$$ \\rho = \\dfrac{m}{V}$$\n",
    "\n",
    "Peso:\n",
    "\n",
    "$$ w = mg $$"
   ]
  },
  {
   "cell_type": "code",
   "execution_count": 2,
   "id": "881d617a",
   "metadata": {
    "nbgrader": {
     "grade": false,
     "grade_id": "cell-49ad8ce159bcb8c9",
     "locked": true,
     "schema_version": 3,
     "solution": false,
     "task": false
    }
   },
   "outputs": [],
   "source": [
    "#1.DATOS\n",
    "V   = 6*6*8\n",
    "rho = 1.16\n",
    "g   = 9.81"
   ]
  },
  {
   "cell_type": "code",
   "execution_count": 3,
   "id": "641875d9",
   "metadata": {
    "nbgrader": {
     "grade": false,
     "grade_id": "cell-697e1fa994db4c02",
     "locked": false,
     "schema_version": 3,
     "solution": true,
     "task": false
    }
   },
   "outputs": [],
   "source": [
    "#2.FUNCION\n",
    "def masa(rho,V):\n",
    "    #BEGIN SOLUTION\n",
    "    m = rho*V\n",
    "    #END SOLUTION\n",
    "    return m \n",
    "\n",
    "def peso(m,g):\n",
    "    #BEGIN SOLUTION\n",
    "    w = m*g\n",
    "    #END SOLUTION\n",
    "    return w   "
   ]
  },
  {
   "cell_type": "code",
   "execution_count": 4,
   "id": "5d5d41f4",
   "metadata": {
    "nbgrader": {
     "grade": false,
     "grade_id": "cell-2d7032f824db517d",
     "locked": true,
     "schema_version": 3,
     "solution": false,
     "task": false
    }
   },
   "outputs": [
    {
     "name": "stdout",
     "output_type": "stream",
     "text": [
      "\u001b[32m¡Tu resultado es correcto!\n",
      "\u001b[32m¡Tu resultado es correcto!\n"
     ]
    }
   ],
   "source": [
    "#3. EVALUA RESULTADO\n",
    "evaluacion.verifica(np.array(masa(rho,V)),21)\n",
    "evaluacion.verifica(np.array(peso(masa(rho,V),g)),22)"
   ]
  },
  {
   "cell_type": "code",
   "execution_count": 5,
   "id": "bb5279e9",
   "metadata": {
    "nbgrader": {
     "grade": false,
     "grade_id": "cell-9cd6a922ed1aef55",
     "locked": true,
     "schema_version": 3,
     "solution": false,
     "task": false
    }
   },
   "outputs": [
    {
     "name": "stdout",
     "output_type": "stream",
     "text": [
      "La masa del aire contenido en el recinto es: 334.08 kg\n",
      "El peso del aire contenido en el recinto es: 3277.3248 N\n"
     ]
    }
   ],
   "source": [
    "#IMPRIME RESULTADO\n",
    "print(\"La masa del aire contenido en el recinto es: {} kg\".format(masa(rho,V)))\n",
    "print(\"El peso del aire contenido en el recinto es: {} N\".format(peso(masa(rho,V),g)))"
   ]
  },
  {
   "cell_type": "markdown",
   "id": "0e9a7d74",
   "metadata": {
    "nbgrader": {
     "grade": false,
     "grade_id": "cell-f95ac6b61c56f29c",
     "locked": true,
     "schema_version": 3,
     "solution": false,
     "task": false
    }
   },
   "source": [
    "#### 2. El calor específico a presión constante $c_p$ del aire a $25$ $\\mathrm{^\\circ{C}}$ es $1.005$ $\\mathrm{ kJ/kg  ^{\\circ}C}$. Exprese este valor en $\\mathrm{kJ/kg \\cdot K}$, $\\mathrm{J/g \\cdot ^\\circ C}$, $\\mathrm{kcal/kg ^{\\circ}C}$ y $\\mathrm{Btu/lbm  ^\\circ F}$.\n",
    "\n",
    "### <font color='red'> Solución: </font>\n",
    "\n",
    "Conversión de $\\mathrm{ kJ/kg  ^{\\circ}C}$ a $\\mathrm{J/g \\cdot ^\\circ C}$\n",
    "\n",
    "$$  \\mathrm{\\left( \\dfrac{ kJ}{kg  ^{\\circ}C} \\right) \\left( \\dfrac{  1 kg}{1000 g} \\right) \\left( \\dfrac{  1000 J}{1 kJ} \\right) = \\dfrac{J}{g ^{\\circ}C}}$$\n",
    "\n",
    "Conversión de $\\mathrm{ kJ/kg  ^{\\circ}C}$ a $\\mathrm{kcal/kg \\cdot ^\\circ C}$\n",
    "\n",
    "\n",
    "$$  \\mathrm{\\left( \\dfrac{ kJ}{kg  ^{\\circ}C} \\right)\\left( \\dfrac{  0.239006 kcal}{1 kJ} \\right) = \\dfrac{kcal}{kg ^{\\circ}C}}$$\n",
    "\n",
    "Conversión de $\\mathrm{ kJ/kg  ^{\\circ}C}$ a $\\mathrm{BTU/lbm \\cdot ^\\circ F}$\n",
    "\n",
    "\n",
    "$$  \\mathrm{1  \\dfrac{ kJ}{kg  ^{\\circ}C}=0.2388 \\dfrac{BTU}{lbm ^{\\circ}F}}$$"
   ]
  },
  {
   "cell_type": "code",
   "execution_count": 6,
   "id": "803d507a",
   "metadata": {},
   "outputs": [],
   "source": [
    "#1. DATOS\n",
    "cp = 1.005"
   ]
  },
  {
   "cell_type": "code",
   "execution_count": 7,
   "id": "d7a1f15a",
   "metadata": {},
   "outputs": [],
   "source": [
    "#2. FUNCION\n",
    "\n",
    "def kJkgC_a_JgC(cp):\n",
    "    c = cp*(1/1000)*(1000/1)\n",
    "    return c    \n",
    "\n",
    "def kJkgC_a_kcalkgC(cp):\n",
    "    c = cp*(0.239006/1)\n",
    "    return c\n",
    "\n",
    "def kJkgC_a_BTUlbmF(cp):\n",
    "    c = cp*0.2388\n",
    "    return c"
   ]
  },
  {
   "cell_type": "code",
   "execution_count": 8,
   "id": "0dd16ec1",
   "metadata": {},
   "outputs": [
    {
     "name": "stdout",
     "output_type": "stream",
     "text": [
      "El calor específico del aire es: 1.005 J/g°C\n",
      "El calos específico del aire es: 0.24020102999999998 kcal/kg°C\n",
      "El calos específico del aire es: 0.23999399999999999 BTU/lbm°F\n"
     ]
    }
   ],
   "source": [
    "#3. RESULTADO\n",
    "print(\"El calor específico del aire es: {} J/g°C\".format(kJkgC_a_JgC(cp)))\n",
    "print(\"El calos específico del aire es: {} kcal/kg°C\".format(kJkgC_a_kcalkgC(cp)))\n",
    "print(\"El calos específico del aire es: {} BTU/lbm°F\".format(kJkgC_a_BTUlbmF(cp)))"
   ]
  },
  {
   "cell_type": "markdown",
   "id": "f9bd872a",
   "metadata": {},
   "source": [
    "#### 3. Una resistencia de calentamiento de $4 \\mathrm {kW}$ en un calentador de agua trabaja durante dos horas para elevar la temperatura del agua al nivel deseado. Determine la cantidad de energía eléctrica que se usa, tanto en $\\mathrm{kWh}$ como en $\\mathrm{kJ}$.\n",
    "\n",
    "### <font color='red'> Solución: </font>\n",
    "\n",
    "Energía eléctrica\n",
    "$$E = P \\cdot t,$$\n",
    "\n",
    "con $P$ la potencia eléctrica $(\\mathrm{kW})$ y $t$ el tiempo $(\\mathrm{h})$.\n",
    "\n",
    "Conversión de $\\mathrm{kWh}$ a $\\mathrm{kJ}$\n",
    "\n",
    "$$ \\mathrm{  kWh \\left( \\dfrac{3600 s}{1 h}  \\right) }$$"
   ]
  },
  {
   "cell_type": "code",
   "execution_count": 9,
   "id": "003c61cf",
   "metadata": {},
   "outputs": [],
   "source": [
    "#1. DATOS\n",
    "P = 4 #kW\n",
    "t = 2 #horas"
   ]
  },
  {
   "cell_type": "code",
   "execution_count": 10,
   "id": "195a6cdf",
   "metadata": {},
   "outputs": [],
   "source": [
    "#2. FUNCION\n",
    "\n",
    "def Energia_Electrica(P,t):\n",
    "    E = P*t\n",
    "    return E\n",
    "\n",
    "def kWh_a_kJ(E):\n",
    "    E_J = E*3600\n",
    "    return E_J"
   ]
  },
  {
   "cell_type": "code",
   "execution_count": 11,
   "id": "aaa08b2f",
   "metadata": {},
   "outputs": [
    {
     "name": "stdout",
     "output_type": "stream",
     "text": [
      "La energía eléctrica E es: 8 kWh y 28800 kJ\n"
     ]
    }
   ],
   "source": [
    "#3. RESULTADO\n",
    "E = Energia_Electrica(P,t)\n",
    "\n",
    "print(\"La energía eléctrica E es: {} kWh y {} kJ\".format(E,kWh_a_kJ(E)))"
   ]
  },
  {
   "cell_type": "markdown",
   "id": "37729e1f",
   "metadata": {},
   "source": [
    "#### 4. Un automóvil recorre $200$ $\\mathrm{km}$ en $7,200$ $\\mathrm{s}$. Obten su velocidad en millas por hora ($\\mathrm{mph}$).\n",
    "\n",
    "### <font color='red'> Solución: </font>\n",
    "\n",
    "Velocidad $v$ es\n",
    "\n",
    "$$v = \\dfrac{d}{t},$$\n",
    "\n",
    "con $d$ la distancia ($\\mathrm{km}$) y $t$ el tiempo ($\\mathrm{s}$).\n",
    "\n",
    "Conversión de  $\\mathrm{km/s}$ a $\\mathrm{mph}$\n",
    "\n",
    "$$1 \\mathrm{\\dfrac{km}{s}= 2236.94 mph}$$"
   ]
  },
  {
   "cell_type": "code",
   "execution_count": 12,
   "id": "9fb20fe1",
   "metadata": {},
   "outputs": [],
   "source": [
    "#1. DATOS\n",
    "\n",
    "x = 200 \n",
    "t = 7200"
   ]
  },
  {
   "cell_type": "code",
   "execution_count": 13,
   "id": "2c6cf85d",
   "metadata": {},
   "outputs": [],
   "source": [
    "#2. FUNCION\n",
    "\n",
    "def v(x,t):\n",
    "    vel = x/t\n",
    "    return vel\n",
    "\n",
    "v = v(x,t)\n",
    "\n",
    "def kps_mph(v):\n",
    "    vel_mph = v*2236.94\n",
    "    return vel_mph"
   ]
  },
  {
   "cell_type": "code",
   "execution_count": 14,
   "id": "3d6c1bcb",
   "metadata": {},
   "outputs": [
    {
     "name": "stdout",
     "output_type": "stream",
     "text": [
      "La velocidad v es: 0.027777777777777776 km/s y 62.13722222222222 mph\n"
     ]
    }
   ],
   "source": [
    "#RESULTADO\n",
    "\n",
    "print(\"La velocidad v es: {} km/s y {} mph\".format(v,kps_mph(v)))"
   ]
  },
  {
   "cell_type": "markdown",
   "id": "7a3d7b6e",
   "metadata": {},
   "source": [
    "#### 5. Considere un aire acondicionado con una capacidad de extraer $9,495,503$ $\\mathrm{Joules}$ ¿Cuánto equivale esta energía en Unidades Térmicas Británicas ($\\mathrm{BTU}$)?.\n",
    "\n",
    "### <font color='red'> Solución: </font>\n"
   ]
  },
  {
   "cell_type": "code",
   "execution_count": 15,
   "id": "2d8a2efd",
   "metadata": {},
   "outputs": [],
   "source": [
    "#1. DATOS\n",
    "\n",
    "E_j = 9495503"
   ]
  },
  {
   "cell_type": "code",
   "execution_count": 16,
   "id": "79367bf6",
   "metadata": {},
   "outputs": [],
   "source": [
    "#2. FUNCION\n",
    "\n",
    "def J_a_BTU(E_j):\n",
    "    E_BTU = E_j*(1/1055.056)\n",
    "    return E_BTU"
   ]
  },
  {
   "cell_type": "code",
   "execution_count": 17,
   "id": "232ca1fe",
   "metadata": {},
   "outputs": [
    {
     "name": "stdout",
     "output_type": "stream",
     "text": [
      "El aire acondicionado tiene una capacidad de extraer 8999.999052183011 BTU's\n"
     ]
    }
   ],
   "source": [
    "#3. RESULTADO\n",
    "\n",
    "print(\"El aire acondicionado tiene una capacidad de extraer {} BTU's\".format(J_a_BTU(E_j)))"
   ]
  },
  {
   "cell_type": "markdown",
   "id": "d716a71b",
   "metadata": {},
   "source": [
    "#### 6. Un foco de $100$ $\\mathrm{Watt}$ está encendido durante dos horas al día \n",
    "\n",
    "(a) ¿Cuál es la energía en watt-hora ($\\mathrm{Wh}$) que consume al día\n",
    "\n",
    "(b) ¿Cuál es la energía que consume al año? Escribe tu respuesta en $\\mathrm{Wh}$ y $\\mathrm{kWh}$?\n",
    "\n",
    "(c) ¿Cuál es la energía que consume en $\\mathrm{BTUs}$ por día y por año?\n",
    "\n",
    "(d) ¿Cuál es la energía que consume en $\\mathrm{Joules}$ por días y por año?\n",
    "\n",
    "### <font color='red'> Solución: </font>\n"
   ]
  },
  {
   "cell_type": "code",
   "execution_count": 18,
   "id": "72f99f90",
   "metadata": {},
   "outputs": [],
   "source": [
    "#1. DATOS\n",
    "Pf = 100\n",
    "tf = 2"
   ]
  },
  {
   "cell_type": "code",
   "execution_count": 19,
   "id": "5e346eec",
   "metadata": {},
   "outputs": [],
   "source": [
    "#2. FUNCION\n",
    "\n",
    "def Eanual_Wh(Ed_Wh):\n",
    "    E_a = Ed_Wh*365\n",
    "    return E_a\n",
    "\n",
    "def Wh_a_BTU(E):\n",
    "    EBTU = E*3.41214\n",
    "    return EBTU\n",
    "\n",
    "Ed_Wh  = Energia_Electrica(Pf,tf)\n",
    "Ea_Wh  = Eanual_Wh(Ed_Wh)\n",
    "\n",
    "Ed_kWh = Energia_Electrica(Pf,tf)/1000\n",
    "Ea_kWh = Eanual_Wh(Ed_Wh)/1000\n",
    "\n",
    "Ed_BTU = Wh_a_BTU(Ed_Wh)\n",
    "Ea_BTU = Wh_a_BTU(Ea_Wh)\n",
    "\n",
    "Ed_J   = kWh_a_kJ(Ed_kWh)*1000\n",
    "Ea_J   = kWh_a_kJ(Ea_kWh)*1000"
   ]
  },
  {
   "cell_type": "code",
   "execution_count": 20,
   "id": "3b00f7ec",
   "metadata": {},
   "outputs": [
    {
     "name": "stdout",
     "output_type": "stream",
     "text": [
      "(a) La energía E que consume al día es 200 Wh\n",
      "(b) La energía E que consume al año es 73000 Wh y 73.0 kWh\n",
      "(c) La energía E que consume en BTU's por día es 682.428 y por año 249086.22\n",
      "(d) La energía E que consume en Joules por día es 720000.0 y por año 262800000.0 \n"
     ]
    }
   ],
   "source": [
    "#3. RESULTADO \n",
    "\n",
    "print(\"(a) La energía E que consume al día es {} Wh\".format(Ed_Wh))\n",
    "print(\"(b) La energía E que consume al año es {} Wh y {} kWh\".format(Eanual_Wh(Ed_Wh),Eanual_Wh(Ed_Wh)/1000))\n",
    "print(\"(c) La energía E que consume en BTU's por día es {} y por año {}\".format(Ed_BTU,Ea_BTU))\n",
    "print(\"(d) La energía E que consume en Joules por día es {} y por año {} \".format(Ed_J,Ea_J))"
   ]
  }
 ],
 "metadata": {
  "celltoolbar": "Create Assignment",
  "kernelspec": {
   "display_name": "Python 3 (ipykernel)",
   "language": "python",
   "name": "python3"
  },
  "language_info": {
   "codemirror_mode": {
    "name": "ipython",
    "version": 3
   },
   "file_extension": ".py",
   "mimetype": "text/x-python",
   "name": "python",
   "nbconvert_exporter": "python",
   "pygments_lexer": "ipython3",
   "version": "3.9.7"
  }
 },
 "nbformat": 4,
 "nbformat_minor": 5
}
